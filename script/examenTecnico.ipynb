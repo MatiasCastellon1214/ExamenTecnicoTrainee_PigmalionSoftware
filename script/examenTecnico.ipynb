{
 "cells": [
  {
   "cell_type": "markdown",
   "id": "56a6a95f",
   "metadata": {},
   "source": [
    "# Exámen Técnico Trainee"
   ]
  },
  {
   "cell_type": "markdown",
   "id": "9c0edd6b",
   "metadata": {},
   "source": [
    "## Enunciado"
   ]
  },
  {
   "cell_type": "markdown",
   "id": "13eb6d3a",
   "metadata": {},
   "source": [
    "Dada la siguiente problemática:\n",
    "\n",
    "> ¿Puede un número X formarse usando la suma de 2 elementos de un array?"
   ]
  },
  {
   "cell_type": "markdown",
   "id": "eaaace12",
   "metadata": {},
   "source": [
    "#### Ejemplos"
   ]
  },
  {
   "cell_type": "markdown",
   "id": "75809a37",
   "metadata": {},
   "source": [
    "**Ejemplo 1**  \n",
    "- Input: `nums = [1, 4, 3, 9]`, `requiredSum = 8`  \n",
    "- Output: `False`\n",
    "\n",
    "**Ejemplo 2**  \n",
    "- Input: `nums = [1, 2, 4, 4]`, `requiredSum = 8`  \n",
    "- Output: `True`"
   ]
  },
  {
   "cell_type": "markdown",
   "id": "b70056ed",
   "metadata": {},
   "source": [
    "---"
   ]
  },
  {
   "cell_type": "markdown",
   "id": "29b6a2bf",
   "metadata": {},
   "source": [
    "### Consignas"
   ]
  },
  {
   "cell_type": "markdown",
   "id": "37fa855f",
   "metadata": {},
   "source": [
    "Desarrollar dos algoritmos (en pseudocódigo o lenguaje de preferencia):\n",
    "\n",
    "1. Un algoritmo que resuelva el problema **asumiendo que la máquina tiene recursos infinitos**, que el tiempo de ejecución **no importa**, y que lo más importante es desarrollar el código en el menor tiempo posible.\n",
    "\n",
    "2. Un algoritmo que resuelva el problema **asumiendo que los recursos son limitados**, que el tiempo de ejecución **sí importa**, y que el tiempo de desarrollo **no es importante**.\n"
   ]
  },
  {
   "cell_type": "markdown",
   "id": "de8b4455",
   "metadata": {},
   "source": [
    "---"
   ]
  },
  {
   "cell_type": "markdown",
   "id": "d94d60de",
   "metadata": {},
   "source": [
    "### Notas"
   ]
  },
  {
   "cell_type": "markdown",
   "id": "b11259b1",
   "metadata": {},
   "source": [
    "- Se permite realizar todas las suposiciones necesarias, siempre y cuando se especifiquen claramente."
   ]
  },
  {
   "cell_type": "markdown",
   "id": "384fa7f3",
   "metadata": {},
   "source": [
    "---"
   ]
  },
  {
   "cell_type": "markdown",
   "id": "413f3e14",
   "metadata": {},
   "source": [
    "## Resolución"
   ]
  },
  {
   "cell_type": "markdown",
   "id": "1f24a3a8",
   "metadata": {},
   "source": [
    "### Supuestos"
   ]
  },
  {
   "cell_type": "markdown",
   "id": "9c094109",
   "metadata": {},
   "source": [
    "- Solo se emplearán dos elementos del conjunto de elementos de un array para establecer la suma.\n",
    "- Se puede utilizar dos veces un mismo número en el caso de aparecer más de una vez.\n",
    "- Los elementos pueden ser positivos, negativos o cero."
   ]
  },
  {
   "cell_type": "markdown",
   "id": "2d99fdc7",
   "metadata": {},
   "source": [
    "### Problemática 1 - Recursos infinitos"
   ]
  },
  {
   "cell_type": "code",
   "execution_count": 7,
   "id": "8e8db5ad",
   "metadata": {},
   "outputs": [],
   "source": [
    "def is_sum_pair_present(nums, requiredSum):\n",
    "\n",
    "    n = len(nums)\n",
    "    \n",
    "    for i in range(n):\n",
    "        for j in range(n):\n",
    "            if i != j and nums[i] + nums[j] == requiredSum:\n",
    "                return True\n",
    "            \n",
    "    return False"
   ]
  },
  {
   "cell_type": "code",
   "execution_count": 8,
   "id": "95d8c41b",
   "metadata": {},
   "outputs": [
    {
     "name": "stdout",
     "output_type": "stream",
     "text": [
      "Ejemplo 1: False\n",
      "Ejemplo 2: True\n"
     ]
    }
   ],
   "source": [
    "array1 = [1, 4, 3, 9]\n",
    "array2 = [1, 2, 4, 4]\n",
    "\n",
    "ejemplo1 = is_sum_pair_present(array1, 8)\n",
    "ejemplo2 = is_sum_pair_present(array2, 8)\n",
    "\n",
    "print(\"Ejemplo 1: \" + str(ejemplo1))\n",
    "print(\"Ejemplo 2: \" + str(ejemplo2))"
   ]
  },
  {
   "cell_type": "markdown",
   "id": "c623c1c0",
   "metadata": {},
   "source": [
    "### Problemática 2 - Recursos limitados"
   ]
  },
  {
   "cell_type": "code",
   "execution_count": 9,
   "id": "e1992e7a",
   "metadata": {},
   "outputs": [],
   "source": [
    "def is_sum_pair_present_optimizazed(nums, requiredSum):\n",
    "    \n",
    "    seen = set()\n",
    "\n",
    "    for num in nums:\n",
    "        complements = requiredSum - num\n",
    "        if complements in seen :\n",
    "            return True\n",
    "        seen.add(num)\n",
    "        \n",
    "    return False"
   ]
  },
  {
   "cell_type": "code",
   "execution_count": 10,
   "id": "29bbf351",
   "metadata": {},
   "outputs": [
    {
     "name": "stdout",
     "output_type": "stream",
     "text": [
      "Ejemplo 1b: False\n",
      "Ejemplo 2b: True\n"
     ]
    }
   ],
   "source": [
    "ejemplo1b = is_sum_pair_present_optimizazed(array1, 8)\n",
    "ejemplo2b = is_sum_pair_present_optimizazed(array2, 8)\n",
    "\n",
    "print(\"Ejemplo 1b: \" + str(ejemplo1b))\n",
    "print(\"Ejemplo 2b: \" + str(ejemplo2b))"
   ]
  },
  {
   "cell_type": "markdown",
   "id": "befc1531",
   "metadata": {},
   "source": [
    "### Comparación"
   ]
  },
  {
   "cell_type": "markdown",
   "id": "6d899f6c",
   "metadata": {},
   "source": [
    "Librería"
   ]
  },
  {
   "cell_type": "code",
   "execution_count": 5,
   "id": "9bc265ec",
   "metadata": {},
   "outputs": [],
   "source": [
    "import timeit"
   ]
  },
  {
   "cell_type": "markdown",
   "id": "e291abcf",
   "metadata": {},
   "source": [
    "Medimos el tiempo de ejecución de las funciones `is_sum_pair_present` y `is_sum_pair_present_optimizazed` - 100 funciones"
   ]
  },
  {
   "cell_type": "code",
   "execution_count": 11,
   "id": "d739deac",
   "metadata": {},
   "outputs": [],
   "source": [
    "time_pair_arr1 = timeit.timeit(lambda: is_sum_pair_present(array1, 8), number=100)\n",
    "time_pair_opt_arr1 = timeit.timeit(lambda: is_sum_pair_present_optimizazed(array1, 8), number=100)\n",
    "time_pair_arr2 = timeit.timeit(lambda: is_sum_pair_present(array2, 8), number=100)\n",
    "time_pair_opt_arr2 = timeit.timeit(lambda: is_sum_pair_present_optimizazed(array2, 8), number=100)"
   ]
  },
  {
   "cell_type": "markdown",
   "id": "798da039",
   "metadata": {},
   "source": [
    "Mostramos los resultados"
   ]
  },
  {
   "cell_type": "code",
   "execution_count": 12,
   "id": "6ae3a821",
   "metadata": {},
   "outputs": [
    {
     "name": "stdout",
     "output_type": "stream",
     "text": [
      "Array 1:Tiempo de ejecución is_sum_pair_present: 0.000121 segundos\n",
      "Array 1:Tiempo de ejecución is_sum_pair_present_optimizazed: 0.000042 segundos\n",
      "Array 2:Tiempo de ejecución is_sum_pair_present: 0.000100 segundos\n",
      "Array 2:Tiempo de ejecución is_sum_pair_present_optimizazed: 0.000039 segundos\n"
     ]
    }
   ],
   "source": [
    "print(f\"Array 1:Tiempo de ejecución is_sum_pair_present: {time_pair_arr1:.6f} segundos\")\n",
    "print(f\"Array 1:Tiempo de ejecución is_sum_pair_present_optimizazed: {time_pair_opt_arr1:.6f} segundos\")\n",
    "print(f\"Array 2:Tiempo de ejecución is_sum_pair_present: {time_pair_arr2:.6f} segundos\")\n",
    "print(f\"Array 2:Tiempo de ejecución is_sum_pair_present_optimizazed: {time_pair_opt_arr2:.6f} segundos\")"
   ]
  },
  {
   "cell_type": "markdown",
   "id": "64b39b8b",
   "metadata": {},
   "source": [
    "### Breve explicación"
   ]
  },
  {
   "cell_type": "markdown",
   "id": "8347697a",
   "metadata": {},
   "source": [
    "La función utilizada en la resolución de la problemática 1 (Recursos infinitos) recorre cada elemento del array comparando todos los pares posibles, mientras que la función brindada para resolver la problemática 2 recorre sólo una vez el array almacenando los números (elementos) ya vistos y verificando si su complemento (es decir, aquel número cuya suma alcance el valor deseado) existe. Esta diferencia podría observarse mejor en un array compuesto por varios elementos:"
   ]
  },
  {
   "cell_type": "code",
   "execution_count": 24,
   "id": "4cee00e4",
   "metadata": {},
   "outputs": [],
   "source": [
    "# Creamos un array con números del 1 al 999\n",
    "nums = list(range(1, 1000))\n",
    "requiredSum = 1997 # Suma de los dos últimos números del array (998 + 999)\n"
   ]
  },
  {
   "cell_type": "code",
   "execution_count": 22,
   "id": "d28f3bed",
   "metadata": {},
   "outputs": [],
   "source": [
    "time_pair_2 = timeit.timeit(lambda: is_sum_pair_present(nums, requiredSum), number=100)\n",
    "time_pair_opt_2 = timeit.timeit(lambda: is_sum_pair_present_optimizazed(nums, requiredSum), number=100)"
   ]
  },
  {
   "cell_type": "code",
   "execution_count": 23,
   "id": "2fd2d30c",
   "metadata": {},
   "outputs": [
    {
     "name": "stdout",
     "output_type": "stream",
     "text": [
      "Tiempo de ejecución is_sum_pair_present: 7.423718 segundos\n",
      "Tiempo de ejecución is_sum_pair_present_optimizazed: 0.006595 segundos\n"
     ]
    }
   ],
   "source": [
    "print(f\"Tiempo de ejecución is_sum_pair_present: {time_pair_2:.6f} segundos\")\n",
    "print(f\"Tiempo de ejecución is_sum_pair_present_optimizazed: {time_pair_opt_2:.6f} segundos\")"
   ]
  }
 ],
 "metadata": {
  "kernelspec": {
   "display_name": "base",
   "language": "python",
   "name": "python3"
  },
  "language_info": {
   "codemirror_mode": {
    "name": "ipython",
    "version": 3
   },
   "file_extension": ".py",
   "mimetype": "text/x-python",
   "name": "python",
   "nbconvert_exporter": "python",
   "pygments_lexer": "ipython3",
   "version": "3.12.8"
  }
 },
 "nbformat": 4,
 "nbformat_minor": 5
}
